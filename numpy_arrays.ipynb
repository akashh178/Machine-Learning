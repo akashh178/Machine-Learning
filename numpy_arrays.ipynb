{
 "cells": [
  {
   "cell_type": "markdown",
   "id": "3ef78f3c-2922-4163-b09e-d89934cb75dd",
   "metadata": {},
   "source": [
    "Numpy Arrays"
   ]
  },
  {
   "cell_type": "code",
   "execution_count": 70,
   "id": "f69664ea-c7af-408d-93ab-c23f1478d2b0",
   "metadata": {},
   "outputs": [],
   "source": [
    "import pandas as pd\n",
    "import numpy as np"
   ]
  },
  {
   "cell_type": "code",
   "execution_count": 72,
   "id": "632c1858-25d0-42fc-95b4-617367638719",
   "metadata": {},
   "outputs": [
    {
     "name": "stdout",
     "output_type": "stream",
     "text": [
      "1\n"
     ]
    }
   ],
   "source": [
    "arr = np.array([1,2,3,4,5,6,7,7]) # 1D array\n",
    "print(arr.ndim)"
   ]
  },
  {
   "cell_type": "code",
   "execution_count": 6,
   "id": "a1808c32-009a-423a-b575-2b61a8e09ce8",
   "metadata": {},
   "outputs": [
    {
     "name": "stdout",
     "output_type": "stream",
     "text": [
      "[1 2 3 4 5 6 7 7]\n"
     ]
    }
   ],
   "source": [
    "print(arr)"
   ]
  },
  {
   "cell_type": "code",
   "execution_count": 7,
   "id": "b2141849-78b6-459f-9156-cfdf515aea36",
   "metadata": {},
   "outputs": [
    {
     "name": "stdout",
     "output_type": "stream",
     "text": [
      "<class 'numpy.ndarray'>\n"
     ]
    }
   ],
   "source": [
    "print(type(arr))"
   ]
  },
  {
   "cell_type": "code",
   "execution_count": 8,
   "id": "b46c795f-0944-4ffa-a656-fe5e5479c550",
   "metadata": {},
   "outputs": [
    {
     "name": "stdout",
     "output_type": "stream",
     "text": [
      "2.0.0\n"
     ]
    }
   ],
   "source": [
    "print(np.__version__)"
   ]
  },
  {
   "cell_type": "code",
   "execution_count": 73,
   "id": "2f585b12-5b14-495e-be9f-ce3ff081c1e4",
   "metadata": {},
   "outputs": [],
   "source": [
    "arr = np.array([[  [[1,2,3],[4,5,6],[1,2,3],[4,5,6]]  ,[[1,2,3],[4,5,6],[1,2,3],[4,5,6]]  ],  [[[11,21,31],[41,51,61],[12,23,35],[45,55,65]],[[17,27,37],[47,57,66],[15,25,35],[40,51,65]]]])\n",
    "\n",
    "#4D array"
   ]
  },
  {
   "cell_type": "code",
   "execution_count": 76,
   "id": "b9a22f1c-7a09-4899-a37e-f960627c340f",
   "metadata": {},
   "outputs": [
    {
     "name": "stdout",
     "output_type": "stream",
     "text": [
      "4\n",
      "(2, 2, 4, 3)\n"
     ]
    }
   ],
   "source": [
    "print(arr.ndim)\n",
    "print(arr.shape)"
   ]
  },
  {
   "cell_type": "code",
   "execution_count": 78,
   "id": "a8194fd0-e19d-4999-94f0-f88d273722cb",
   "metadata": {},
   "outputs": [
    {
     "name": "stdout",
     "output_type": "stream",
     "text": [
      "[[[[ 1  2  3]\n",
      "   [ 4  5  6]\n",
      "   [ 1  2  3]\n",
      "   [ 4  5  6]]\n",
      "\n",
      "  [[ 1  2  3]\n",
      "   [ 4  5  6]\n",
      "   [ 1  2  3]\n",
      "   [ 4  5  6]]]\n",
      "\n",
      "\n",
      " [[[11 21 31]\n",
      "   [41 51 61]\n",
      "   [12 23 35]\n",
      "   [45 55 65]]\n",
      "\n",
      "  [[17 27 37]\n",
      "   [47 57 66]\n",
      "   [15 25 35]\n",
      "   [40 51 65]]]]\n"
     ]
    }
   ],
   "source": [
    "print(arr)"
   ]
  },
  {
   "cell_type": "code",
   "execution_count": 79,
   "id": "eb16aead-31bb-41d9-b64b-f717f3f9fd5a",
   "metadata": {},
   "outputs": [
    {
     "name": "stdout",
     "output_type": "stream",
     "text": [
      "[41 51 61]\n"
     ]
    }
   ],
   "source": [
    "print(arr[1][0][1]) #accessing of an array"
   ]
  },
  {
   "cell_type": "code",
   "execution_count": 77,
   "id": "87256939-addd-4455-b4bb-9ac34a8fff4b",
   "metadata": {},
   "outputs": [
    {
     "name": "stdout",
     "output_type": "stream",
     "text": [
      "[[1 2 3]\n",
      " [3 4 4]]\n",
      "2\n"
     ]
    }
   ],
   "source": [
    "x = np.array([[1,2,3],[3,4,4]]) #2D array\n",
    "print(x)\n",
    "print(x.ndim)"
   ]
  },
  {
   "cell_type": "code",
   "execution_count": 11,
   "id": "1909146d-e892-4d74-835d-a6b6ef9bb6f1",
   "metadata": {},
   "outputs": [
    {
     "name": "stdout",
     "output_type": "stream",
     "text": [
      "4\n"
     ]
    }
   ],
   "source": [
    "print(x[1][2])"
   ]
  },
  {
   "cell_type": "code",
   "execution_count": 28,
   "id": "afed204b-8efe-48fe-8dea-645ab63329f9",
   "metadata": {},
   "outputs": [
    {
     "name": "stdout",
     "output_type": "stream",
     "text": [
      "[3 4]\n"
     ]
    }
   ],
   "source": [
    "print(x[:,2]) #slicing an array"
   ]
  },
  {
   "cell_type": "code",
   "execution_count": 29,
   "id": "242f74fc-e504-4b64-835b-fb2e60957b90",
   "metadata": {},
   "outputs": [
    {
     "name": "stdout",
     "output_type": "stream",
     "text": [
      "4\n"
     ]
    }
   ],
   "source": [
    "print(x[1,2])"
   ]
  },
  {
   "cell_type": "code",
   "execution_count": 30,
   "id": "014d1b80-ba59-44b9-8544-14bff2555e71",
   "metadata": {},
   "outputs": [
    {
     "name": "stdout",
     "output_type": "stream",
     "text": [
      "[[[1 2]\n",
      "  [5 6]]\n",
      "\n",
      " [[3 5]\n",
      "  [7 5]]]\n",
      "3\n"
     ]
    }
   ],
   "source": [
    "x = np.array([[[1,2],[5,6]], [[3,5],[7,5]]])\n",
    "print(x)\n",
    "print(x.ndim)"
   ]
  },
  {
   "cell_type": "code",
   "execution_count": 32,
   "id": "b24471f0-75a2-45e7-bddc-377f9c07c072",
   "metadata": {},
   "outputs": [
    {
     "name": "stdout",
     "output_type": "stream",
     "text": [
      "3\n"
     ]
    }
   ],
   "source": [
    "print(x[1,0,0])"
   ]
  },
  {
   "cell_type": "code",
   "execution_count": 35,
   "id": "8bb42fa3-2550-4b8c-8a19-b00fc67f7a9b",
   "metadata": {},
   "outputs": [
    {
     "name": "stdout",
     "output_type": "stream",
     "text": [
      "[[5 6]]\n"
     ]
    }
   ],
   "source": [
    "print(x[0:1,1])"
   ]
  },
  {
   "cell_type": "code",
   "execution_count": 36,
   "id": "62b801ca-4a49-4834-b365-35824c998d94",
   "metadata": {},
   "outputs": [
    {
     "data": {
      "text/plain": [
       "3"
      ]
     },
     "execution_count": 36,
     "metadata": {},
     "output_type": "execute_result"
    }
   ],
   "source": [
    "l = [[['a',1,3],['b']]]\n",
    "l[0][0][2]"
   ]
  },
  {
   "cell_type": "code",
   "execution_count": 43,
   "id": "55b4856a-502f-4821-a5ba-593f0de236a9",
   "metadata": {},
   "outputs": [
    {
     "name": "stdout",
     "output_type": "stream",
     "text": [
      "['b']\n"
     ]
    }
   ],
   "source": [
    "print(l[0][1])"
   ]
  },
  {
   "cell_type": "code",
   "execution_count": 44,
   "id": "9c2f345d-954d-436e-b3d8-3d05f67e3826",
   "metadata": {},
   "outputs": [
    {
     "name": "stdout",
     "output_type": "stream",
     "text": [
      "[[[[2 3]\n",
      "   [6 4]]\n",
      "\n",
      "  [[3 4]\n",
      "   [7 8]]]\n",
      "\n",
      "\n",
      " [[[2 3]\n",
      "   [4 6]]\n",
      "\n",
      "  [[3 4]\n",
      "   [7 6]]]]\n",
      "4\n"
     ]
    }
   ],
   "source": [
    "print(x)\n",
    "print(x.ndim)"
   ]
  },
  {
   "cell_type": "code",
   "execution_count": 45,
   "id": "7390ddcd-7fe0-42fe-9a9e-ee10d88c674e",
   "metadata": {},
   "outputs": [
    {
     "name": "stdout",
     "output_type": "stream",
     "text": [
      "16\n",
      "(2, 2, 2, 2)\n"
     ]
    }
   ],
   "source": [
    "print(x.size)\n",
    "print(x.shape)"
   ]
  },
  {
   "cell_type": "code",
   "execution_count": null,
   "id": "d2eea88b-bb28-4aea-88ed-2d979f29f38a",
   "metadata": {},
   "outputs": [],
   "source": []
  },
  {
   "cell_type": "code",
   "execution_count": 30,
   "id": "fc36618a-5417-46cd-91a7-508c71c96245",
   "metadata": {},
   "outputs": [
    {
     "name": "stdout",
     "output_type": "stream",
     "text": [
      "int64\n"
     ]
    }
   ],
   "source": [
    "print(x.dtype)"
   ]
  },
  {
   "cell_type": "code",
   "execution_count": 39,
   "id": "53e6e8db-011a-4e9d-a07f-8db23603b622",
   "metadata": {},
   "outputs": [
    {
     "name": "stdout",
     "output_type": "stream",
     "text": [
      "6\n"
     ]
    }
   ],
   "source": [
    "print(x[1][0][1][1])"
   ]
  },
  {
   "cell_type": "code",
   "execution_count": 40,
   "id": "483c769b-8a99-4f35-8ea7-621a56c40ae1",
   "metadata": {},
   "outputs": [
    {
     "name": "stdout",
     "output_type": "stream",
     "text": [
      "[[2 3]\n",
      " [4 6]]\n"
     ]
    }
   ],
   "source": [
    "print(x[1][0])"
   ]
  },
  {
   "cell_type": "code",
   "execution_count": 45,
   "id": "87e38466-02f6-4bea-b7de-32dbcac94b0c",
   "metadata": {},
   "outputs": [
    {
     "name": "stdout",
     "output_type": "stream",
     "text": [
      "[2 3]\n"
     ]
    }
   ],
   "source": [
    "print(x[1,0,0])"
   ]
  },
  {
   "cell_type": "code",
   "execution_count": 54,
   "id": "089c1584-dd9a-4dcd-bea5-f6ff2a3e1ffa",
   "metadata": {},
   "outputs": [
    {
     "name": "stdout",
     "output_type": "stream",
     "text": [
      "[[[[2 3]\n",
      "   [4 6]]\n",
      "\n",
      "  [[3 4]\n",
      "   [7 6]]]]\n"
     ]
    }
   ],
   "source": [
    "print(x[1:2])"
   ]
  },
  {
   "cell_type": "code",
   "execution_count": 67,
   "id": "3bc5d202-8f63-46ce-b1e0-7ee4eecb33ef",
   "metadata": {},
   "outputs": [
    {
     "name": "stdout",
     "output_type": "stream",
     "text": [
      "int64\n",
      "int8\n",
      "[0. 1. 2. 3.]\n",
      "float16\n"
     ]
    }
   ],
   "source": [
    "x = np.array([0,1,2,3])\n",
    "print(x.dtype)\n",
    "\n",
    "x = np.array([0,1,2,3], dtype = 'int8') #specific datatype \n",
    "print(x.dtype)\n",
    "\n",
    "x = x.astype(np.float16)\n",
    "print(x)\n",
    "print(x.dtype)"
   ]
  },
  {
   "cell_type": "code",
   "execution_count": 83,
   "id": "90ed0a28-7ff6-483d-a735-f16abfa77ea5",
   "metadata": {},
   "outputs": [
    {
     "name": "stdout",
     "output_type": "stream",
     "text": [
      "[[[[2 3]\n",
      "   [6 4]]\n",
      "\n",
      "  [[3 4]\n",
      "   [7 8]]]\n",
      "\n",
      "\n",
      " [[[2 3]\n",
      "   [4 6]]\n",
      "\n",
      "  [[3 4]\n",
      "   [7 6]]]]\n",
      "(2, 2, 2, 2)\n",
      "16\n"
     ]
    }
   ],
   "source": [
    "print(x)\n",
    "print(x.shape)\n",
    "print(x.size)"
   ]
  },
  {
   "cell_type": "markdown",
   "id": "bae67884-a163-4716-b678-f84e79442641",
   "metadata": {},
   "source": [
    "Reshape an array"
   ]
  },
  {
   "cell_type": "code",
   "execution_count": 86,
   "id": "ee3771bf-2a88-4418-977b-ae981ed32fff",
   "metadata": {},
   "outputs": [
    {
     "data": {
      "text/plain": [
       "array([[[2, 3, 6, 4],\n",
       "        [3, 4, 7, 8]],\n",
       "\n",
       "       [[2, 3, 4, 6],\n",
       "        [3, 4, 7, 6]]])"
      ]
     },
     "execution_count": 86,
     "metadata": {},
     "output_type": "execute_result"
    }
   ],
   "source": [
    "x.reshape(2,2,4)"
   ]
  },
  {
   "cell_type": "code",
   "execution_count": 92,
   "id": "99023c62-3e02-48ff-af9c-9aecd36a1ecf",
   "metadata": {},
   "outputs": [
    {
     "data": {
      "text/plain": [
       "array([[[[2],\n",
       "         [3]],\n",
       "\n",
       "        [[6],\n",
       "         [4]]],\n",
       "\n",
       "\n",
       "       [[[3],\n",
       "         [4]],\n",
       "\n",
       "        [[7],\n",
       "         [8]]],\n",
       "\n",
       "\n",
       "       [[[2],\n",
       "         [3]],\n",
       "\n",
       "        [[4],\n",
       "         [6]]],\n",
       "\n",
       "\n",
       "       [[[3],\n",
       "         [4]],\n",
       "\n",
       "        [[7],\n",
       "         [6]]]])"
      ]
     },
     "execution_count": 92,
     "metadata": {},
     "output_type": "execute_result"
    }
   ],
   "source": [
    "x.reshape(4,2,2,1)"
   ]
  },
  {
   "cell_type": "code",
   "execution_count": 94,
   "id": "d26cf236-9733-4f42-abb1-6329b2377263",
   "metadata": {},
   "outputs": [
    {
     "data": {
      "text/plain": [
       "array([[[[2, 3]],\n",
       "\n",
       "        [[6, 4]]],\n",
       "\n",
       "\n",
       "       [[[3, 4]],\n",
       "\n",
       "        [[7, 8]]],\n",
       "\n",
       "\n",
       "       [[[2, 3]],\n",
       "\n",
       "        [[4, 6]]],\n",
       "\n",
       "\n",
       "       [[[3, 4]],\n",
       "\n",
       "        [[7, 6]]]])"
      ]
     },
     "execution_count": 94,
     "metadata": {},
     "output_type": "execute_result"
    }
   ],
   "source": [
    "x.reshape(4,2,1,2)"
   ]
  },
  {
   "cell_type": "code",
   "execution_count": 102,
   "id": "183f0d4f-12b6-4c6b-9678-b065986c6744",
   "metadata": {},
   "outputs": [
    {
     "name": "stdout",
     "output_type": "stream",
     "text": [
      "[[[ 0  1  2  3  4]\n",
      "  [ 5  6  7  8  9]]\n",
      "\n",
      " [[10 11 12 13 14]\n",
      "  [15 16 17 18 19]]]\n"
     ]
    }
   ],
   "source": [
    "x = np.arange(0,20).reshape(2,2,5)\n",
    "print(x)"
   ]
  },
  {
   "cell_type": "code",
   "execution_count": 104,
   "id": "46990b27-f10b-45ab-8e58-9ae362304b00",
   "metadata": {},
   "outputs": [
    {
     "data": {
      "text/plain": [
       "array([[[ 0,  1],\n",
       "        [ 2,  3]],\n",
       "\n",
       "       [[ 4,  5],\n",
       "        [ 6,  7]],\n",
       "\n",
       "       [[ 8,  9],\n",
       "        [10, 11]],\n",
       "\n",
       "       [[12, 13],\n",
       "        [14, 15]],\n",
       "\n",
       "       [[16, 17],\n",
       "        [18, 19]]])"
      ]
     },
     "execution_count": 104,
     "metadata": {},
     "output_type": "execute_result"
    }
   ],
   "source": [
    "x.reshape(5,2,2)"
   ]
  },
  {
   "cell_type": "code",
   "execution_count": 108,
   "id": "61fff892-57dc-44e8-bd76-f9c16e1b7fc6",
   "metadata": {},
   "outputs": [
    {
     "data": {
      "text/plain": [
       "array([[[ 0],\n",
       "        [ 1],\n",
       "        [ 2],\n",
       "        [ 3]],\n",
       "\n",
       "       [[ 4],\n",
       "        [ 5],\n",
       "        [ 6],\n",
       "        [ 7]],\n",
       "\n",
       "       [[ 8],\n",
       "        [ 9],\n",
       "        [10],\n",
       "        [11]],\n",
       "\n",
       "       [[12],\n",
       "        [13],\n",
       "        [14],\n",
       "        [15]],\n",
       "\n",
       "       [[16],\n",
       "        [17],\n",
       "        [18],\n",
       "        [19]]])"
      ]
     },
     "execution_count": 108,
     "metadata": {},
     "output_type": "execute_result"
    }
   ],
   "source": [
    "x.reshape(5,4,1)\n"
   ]
  },
  {
   "cell_type": "code",
   "execution_count": 111,
   "id": "e8fce52d-5c9b-4352-893f-d0404e5d34b8",
   "metadata": {},
   "outputs": [
    {
     "data": {
      "text/plain": [
       "array([[1., 1., 1., 1., 1.],\n",
       "       [1., 1., 1., 1., 1.]])"
      ]
     },
     "execution_count": 111,
     "metadata": {},
     "output_type": "execute_result"
    }
   ],
   "source": [
    "np.ones((2,5))"
   ]
  },
  {
   "cell_type": "code",
   "execution_count": 113,
   "id": "e5d519e3-20b2-4a0f-9184-e5a848ace9a6",
   "metadata": {},
   "outputs": [
    {
     "data": {
      "text/plain": [
       "array([[[0., 0.],\n",
       "        [0., 0.]],\n",
       "\n",
       "       [[0., 0.],\n",
       "        [0., 0.]],\n",
       "\n",
       "       [[0., 0.],\n",
       "        [0., 0.]]])"
      ]
     },
     "execution_count": 113,
     "metadata": {},
     "output_type": "execute_result"
    }
   ],
   "source": [
    "np.zeros((3,2,2))"
   ]
  },
  {
   "cell_type": "code",
   "execution_count": 120,
   "id": "adcd16c6-17fe-4781-ab7e-47db2642c768",
   "metadata": {},
   "outputs": [
    {
     "data": {
      "text/plain": [
       "array([[9.9e-324, 1.5e-323, 3.0e-323, 2.0e-323],\n",
       "       [1.5e-323, 2.0e-323, 3.5e-323, 4.0e-323],\n",
       "       [9.9e-324, 1.5e-323, 2.0e-323, 3.0e-323],\n",
       "       [1.5e-323, 2.0e-323, 3.5e-323, 3.0e-323]])"
      ]
     },
     "execution_count": 120,
     "metadata": {},
     "output_type": "execute_result"
    }
   ],
   "source": [
    "np.empty((4,4))"
   ]
  },
  {
   "cell_type": "code",
   "execution_count": 78,
   "id": "56b16758-4bd6-4351-bbaf-08416d4f3dbe",
   "metadata": {},
   "outputs": [
    {
     "data": {
      "text/plain": [
       "array([[1., 0., 0.],\n",
       "       [0., 1., 0.],\n",
       "       [0., 0., 1.]])"
      ]
     },
     "execution_count": 78,
     "metadata": {},
     "output_type": "execute_result"
    }
   ],
   "source": [
    "np.eye(3)"
   ]
  },
  {
   "cell_type": "code",
   "execution_count": null,
   "id": "2666eb1b-8423-4316-8888-054f307fefa1",
   "metadata": {},
   "outputs": [],
   "source": []
  },
  {
   "cell_type": "markdown",
   "id": "4576191c-4b3a-4a40-a031-409e3e846cc7",
   "metadata": {},
   "source": [
    "Change array values"
   ]
  },
  {
   "cell_type": "code",
   "execution_count": 3,
   "id": "6e6aab35-7eaa-4ec6-8d7e-57ec0552ca55",
   "metadata": {},
   "outputs": [
    {
     "name": "stdout",
     "output_type": "stream",
     "text": [
      "[[ 0  1  2]\n",
      " [ 3  4  5]\n",
      " [ 6  7  8]\n",
      " [ 9 10 11]\n",
      " [12 13 14]]\n"
     ]
    }
   ],
   "source": [
    "x = np.arange(0,15).reshape(5,3)\n",
    "print(x)"
   ]
  },
  {
   "cell_type": "code",
   "execution_count": 6,
   "id": "9eeea648-f28f-4dd0-9596-c64950c94c08",
   "metadata": {},
   "outputs": [
    {
     "name": "stdout",
     "output_type": "stream",
     "text": [
      "[[11 11 11]\n",
      " [ 3  4  5]\n",
      " [ 6  7  8]\n",
      " [ 9 10 11]\n",
      " [12 13 14]]\n"
     ]
    }
   ],
   "source": [
    "x[0] = 11\n",
    "print(x)"
   ]
  },
  {
   "cell_type": "code",
   "execution_count": 7,
   "id": "4c43ebd0-cb8b-49b0-b2ca-9f82c2faf67f",
   "metadata": {},
   "outputs": [
    {
     "name": "stdout",
     "output_type": "stream",
     "text": [
      "[[ 11  11  11]\n",
      " [  3   4   5]\n",
      " [  6 123   8]\n",
      " [  9  10  11]\n",
      " [ 12  13  14]]\n"
     ]
    }
   ],
   "source": [
    "x[2][1] = 123\n",
    "print(x)"
   ]
  },
  {
   "cell_type": "code",
   "execution_count": 10,
   "id": "d340a34f-9d98-4b9f-9217-f93af1360ccb",
   "metadata": {},
   "outputs": [
    {
     "name": "stdout",
     "output_type": "stream",
     "text": [
      "[[ 0  0  0]\n",
      " [ 3  4  5]\n",
      " [ 6  0  8]\n",
      " [ 9 10  0]\n",
      " [ 0  0  0]]\n"
     ]
    }
   ],
   "source": [
    "x[x > 10] = 0\n",
    "print(x)"
   ]
  },
  {
   "cell_type": "code",
   "execution_count": null,
   "id": "821b6a68-cc67-4da2-8738-cbc768f3e7cd",
   "metadata": {},
   "outputs": [],
   "source": []
  },
  {
   "cell_type": "code",
   "execution_count": 15,
   "id": "413cae52-a957-4c40-8f86-02057a2fe23b",
   "metadata": {},
   "outputs": [
    {
     "data": {
      "text/plain": [
       "array([[ 0,  0,  0],\n",
       "       [ 0,  0,  0],\n",
       "       [ 3,  0,  0],\n",
       "       [ 6,  4,  5],\n",
       "       [ 9, 10,  8]])"
      ]
     },
     "execution_count": 15,
     "metadata": {},
     "output_type": "execute_result"
    }
   ],
   "source": [
    "np.sort(x, axis = 0)  #axis = 0 (columns) and -1 which is default is rows "
   ]
  },
  {
   "cell_type": "code",
   "execution_count": 16,
   "id": "86a18e9d-093b-420a-b26e-fcdeaa76e391",
   "metadata": {},
   "outputs": [
    {
     "name": "stdout",
     "output_type": "stream",
     "text": [
      "[[ 0  0  0]\n",
      " [ 3  4  5]\n",
      " [ 6  0  8]\n",
      " [ 9 10  0]\n",
      " [ 0  0  0]]\n"
     ]
    }
   ],
   "source": [
    "print(x)"
   ]
  },
  {
   "cell_type": "code",
   "execution_count": null,
   "id": "2cec76f5-d9f0-46c1-8532-b4a178a60979",
   "metadata": {},
   "outputs": [],
   "source": []
  },
  {
   "cell_type": "code",
   "execution_count": 60,
   "id": "9af4a294-cf8b-4a52-be3a-6888c3e0e103",
   "metadata": {},
   "outputs": [
    {
     "data": {
      "text/plain": [
       "(2, 2, 3)"
      ]
     },
     "execution_count": 60,
     "metadata": {},
     "output_type": "execute_result"
    }
   ],
   "source": [
    "arr = np.array([[[1, 2, 3], [4, 5, 6]],[[1, 2, 3], [4, 5, 6]]])\n",
    "arr.shape"
   ]
  },
  {
   "cell_type": "code",
   "execution_count": 59,
   "id": "91fc91ff-3651-4de1-b730-ef63a46656af",
   "metadata": {},
   "outputs": [
    {
     "name": "stdout",
     "output_type": "stream",
     "text": [
      "[1 2 3 4 5 6 1 2 3 4 5 6]\n"
     ]
    }
   ],
   "source": [
    "new_arr = arr.reshape(-1)  #Flattening array means converting a multidimensional array into a 1D array.\n",
    "print(new_arr)"
   ]
  },
  {
   "cell_type": "code",
   "execution_count": 61,
   "id": "b1999d00-4e6a-450c-8ee6-96c89ec669bc",
   "metadata": {},
   "outputs": [
    {
     "data": {
      "text/plain": [
       "array([1, 2, 3, 4, 5, 6, 1, 2, 3, 4, 5, 6])"
      ]
     },
     "execution_count": 61,
     "metadata": {},
     "output_type": "execute_result"
    }
   ],
   "source": [
    "np.ravel(arr)"
   ]
  },
  {
   "cell_type": "code",
   "execution_count": null,
   "id": "9ebafd2b-90cf-4d49-b2cd-a6303ddb22d9",
   "metadata": {},
   "outputs": [],
   "source": []
  },
  {
   "cell_type": "code",
   "execution_count": null,
   "id": "61ac3ba3-5f0c-4106-879b-fcda32368aea",
   "metadata": {},
   "outputs": [],
   "source": []
  },
  {
   "cell_type": "code",
   "execution_count": 67,
   "id": "2b3e2780-fbb5-42db-8595-3ad428460370",
   "metadata": {},
   "outputs": [
    {
     "data": {
      "text/plain": [
       "(2, 2, 3)"
      ]
     },
     "execution_count": 67,
     "metadata": {},
     "output_type": "execute_result"
    }
   ],
   "source": [
    "arr = np.array([[[1, 2, 3], [4, 5, 6]],[[11, 21, 32], [43, 52, 26]]])\n",
    "arr.shape"
   ]
  },
  {
   "cell_type": "markdown",
   "id": "f990a5c3-8955-40e9-b7f6-dcd5ea43584c",
   "metadata": {},
   "source": [
    "iterating arrays"
   ]
  },
  {
   "cell_type": "code",
   "execution_count": 69,
   "id": "1d01ff8c-b117-4cfa-8666-6edd798e46b8",
   "metadata": {},
   "outputs": [
    {
     "name": "stdout",
     "output_type": "stream",
     "text": [
      "[1 2 3]\n",
      "[4 5 6]\n",
      "[11 21 32]\n",
      "[43 52 26]\n"
     ]
    }
   ],
   "source": [
    "for i in arr:\n",
    "    for j in i:\n",
    "        print(j)"
   ]
  },
  {
   "cell_type": "code",
   "execution_count": 82,
   "id": "af4faf4a-217d-46ae-963a-c69eef64e0f5",
   "metadata": {},
   "outputs": [
    {
     "name": "stdout",
     "output_type": "stream",
     "text": [
      "1 2 3 4 5 6 1 2 3 4 5 6 1 2 3 4 5 6 1 2 3 4 5 6 11 21 31 41 51 61 12 23 35 45 55 65 17 27 37 47 57 66 15 25 35 40 51 65 "
     ]
    }
   ],
   "source": [
    "arr = np.array([[  [[1,2,3],[4,5,6],[1,2,3],[4,5,6]]  ,[[1,2,3],[4,5,6],[1,2,3],[4,5,6]]  ],  [[[11,21,31],[41,51,61],[12,23,35],[45,55,65]],[[17,27,37],[47,57,66],[15,25,35],[40,51,65]]]])\n",
    "\n",
    "for i in np.nditer(arr):\n",
    "    print(i,end = \" \")"
   ]
  },
  {
   "cell_type": "code",
   "execution_count": null,
   "id": "b1369a3a-1df3-4fd0-bec8-76fa2994601a",
   "metadata": {},
   "outputs": [],
   "source": []
  },
  {
   "cell_type": "markdown",
   "id": "e4562d1b-414c-45a5-a67e-dffdc848eb18",
   "metadata": {},
   "source": [
    "Array Concatenation"
   ]
  },
  {
   "cell_type": "code",
   "execution_count": 94,
   "id": "b431bf1d-98b4-4182-b526-02bb16065c0a",
   "metadata": {},
   "outputs": [],
   "source": [
    "arr1 = np.arange(20,25)"
   ]
  },
  {
   "cell_type": "code",
   "execution_count": 95,
   "id": "1ff4e2a4-59a6-4dd6-8583-f2c388371831",
   "metadata": {},
   "outputs": [],
   "source": [
    "arr2 = np.array([1,2,3,4,5])"
   ]
  },
  {
   "cell_type": "code",
   "execution_count": 91,
   "id": "58a39a39-39be-47d1-987d-affd4caaf5b6",
   "metadata": {},
   "outputs": [
    {
     "data": {
      "text/plain": [
       "array([21, 23, 25, 27, 29])"
      ]
     },
     "execution_count": 91,
     "metadata": {},
     "output_type": "execute_result"
    }
   ],
   "source": [
    "arr1+arr2"
   ]
  },
  {
   "cell_type": "code",
   "execution_count": 93,
   "id": "25cb8192-902d-47a9-be4c-f75a59854818",
   "metadata": {},
   "outputs": [
    {
     "data": {
      "text/plain": [
       "array([20, 21, 22, 23, 24,  1,  2,  3,  4,  5])"
      ]
     },
     "execution_count": 93,
     "metadata": {},
     "output_type": "execute_result"
    }
   ],
   "source": [
    "np.concatenate((arr1,arr2))"
   ]
  },
  {
   "cell_type": "code",
   "execution_count": null,
   "id": "338889d4-4227-42ec-849d-171c8a72cbe4",
   "metadata": {},
   "outputs": [],
   "source": []
  },
  {
   "cell_type": "markdown",
   "id": "0f23ff7c-4f3f-4bb8-b699-dfc46d73234c",
   "metadata": {},
   "source": [
    "Stack <br> stack() is used for joining multiple NumPy arrays. Unlike, concatenate(), it joins arrays along a new axis. It returns a NumPy array. <br>\n",
    "to join 2 arrays, they must have the same shape and dimensions. <br>\n",
    "stack() creates a new array which has 1 more dimension than the input arrays. If we stack 2 1-D arrays, the resultant array will have 2 dimensions."
   ]
  },
  {
   "cell_type": "code",
   "execution_count": 101,
   "id": "8cd5e5c4-2063-479f-9be2-3b048d9f44f3",
   "metadata": {},
   "outputs": [
    {
     "name": "stdout",
     "output_type": "stream",
     "text": [
      "[[20 21 22 23 24]\n",
      " [ 1  2  3  4  5]]\n"
     ]
    }
   ],
   "source": [
    "arr_stack= np.stack((arr1, arr2))\n",
    "print(arr_stack)"
   ]
  },
  {
   "cell_type": "code",
   "execution_count": 100,
   "id": "5576cfe5-1b2a-46e9-a175-0f1a2cb9844c",
   "metadata": {},
   "outputs": [
    {
     "data": {
      "text/plain": [
       "2"
      ]
     },
     "execution_count": 100,
     "metadata": {},
     "output_type": "execute_result"
    }
   ],
   "source": [
    "arr_stack.ndim"
   ]
  },
  {
   "cell_type": "markdown",
   "id": "841dc906-4e16-4c71-8ff2-8913c45bc7eb",
   "metadata": {},
   "source": [
    "Along this axis, in the new array, input arrays are stacked. Possible values are 0 to (n-1) positive integer for n-dimensional output array. For example, in the case of a resultant 2-D array, there are 2 possible axis options :0 and 1 , axis=0 means 1D input arrays will be stacked row-wise. axis=1 means 1D input arrays will be stacked column-wise."
   ]
  },
  {
   "cell_type": "code",
   "execution_count": 102,
   "id": "a9d62ca2-09e2-4ce1-a969-27f2b43cad8e",
   "metadata": {},
   "outputs": [
    {
     "name": "stdout",
     "output_type": "stream",
     "text": [
      "[[20  1]\n",
      " [21  2]\n",
      " [22  3]\n",
      " [23  4]\n",
      " [24  5]]\n"
     ]
    }
   ],
   "source": [
    "arr_stack= np.stack((arr1, arr2), axis = 1) #\n",
    "print(arr_stack)"
   ]
  },
  {
   "cell_type": "code",
   "execution_count": 103,
   "id": "bd930cd8-ef50-4078-ab71-7598d190c748",
   "metadata": {},
   "outputs": [],
   "source": [
    "# stacking 2 2D arrays\n",
    "arr1=np.array([[1,2,3],\n",
    "            [4,5,6]])\n",
    " \n",
    "arr2=np.array([[7,8,9],\n",
    "            [10,11,12]])"
   ]
  },
  {
   "cell_type": "code",
   "execution_count": 104,
   "id": "dfbcbb6e-4b3c-4787-a30f-0e11e994f646",
   "metadata": {},
   "outputs": [
    {
     "name": "stdout",
     "output_type": "stream",
     "text": [
      "[[[ 1  2  3]\n",
      "  [ 4  5  6]]\n",
      "\n",
      " [[ 7  8  9]\n",
      "  [10 11 12]]]\n"
     ]
    }
   ],
   "source": [
    "arr_stack = np.stack((arr1,arr2),axis = 0)\n",
    "print(arr_stack)"
   ]
  },
  {
   "cell_type": "code",
   "execution_count": 113,
   "id": "e0bb9b42-eca1-4a11-b993-67ec86ffc32f",
   "metadata": {},
   "outputs": [
    {
     "name": "stdout",
     "output_type": "stream",
     "text": [
      "[[[ 1  7]\n",
      "  [ 2  8]\n",
      "  [ 3  9]]\n",
      "\n",
      " [[ 4 10]\n",
      "  [ 5 11]\n",
      "  [ 6 12]]]\n"
     ]
    }
   ],
   "source": [
    "arr_stack = np.stack((arr1,arr2),axis = 2)\n",
    "print(arr_stack)"
   ]
  },
  {
   "cell_type": "code",
   "execution_count": 112,
   "id": "d82d48ca-5c10-4935-9e0b-7ca1cfbd2631",
   "metadata": {},
   "outputs": [
    {
     "data": {
      "text/plain": [
       "3"
      ]
     },
     "execution_count": 112,
     "metadata": {},
     "output_type": "execute_result"
    }
   ],
   "source": [
    "arr_stack.ndim"
   ]
  },
  {
   "cell_type": "code",
   "execution_count": 118,
   "id": "18aa0f9a-db84-4207-b766-450620b2d8ab",
   "metadata": {},
   "outputs": [
    {
     "name": "stdout",
     "output_type": "stream",
     "text": [
      "[[ 1  2  3  7  8  9]\n",
      " [ 4  5  6 10 11 12]]\n"
     ]
    }
   ],
   "source": [
    "arr_stack = np.hstack((arr1,arr2)) #Stacking along rows\n",
    "print(arr_stack)"
   ]
  },
  {
   "cell_type": "code",
   "execution_count": 120,
   "id": "c83c7e07-b9b0-4c8a-abd9-9268ad895ba1",
   "metadata": {},
   "outputs": [
    {
     "name": "stdout",
     "output_type": "stream",
     "text": [
      "[[ 1  2  3]\n",
      " [ 4  5  6]\n",
      " [ 7  8  9]\n",
      " [10 11 12]]\n"
     ]
    }
   ],
   "source": [
    "arr_stack = np.vstack((arr1,arr2)) #Stacking along columns\n",
    "print(arr_stack)"
   ]
  },
  {
   "cell_type": "code",
   "execution_count": null,
   "id": "50a7a405-ab16-4672-91d8-d31e7e53f4ea",
   "metadata": {},
   "outputs": [],
   "source": []
  },
  {
   "cell_type": "markdown",
   "id": "a68c6e6f-3035-46dd-9026-84753f21f94e",
   "metadata": {},
   "source": [
    "Splitting arrays"
   ]
  },
  {
   "cell_type": "code",
   "execution_count": 121,
   "id": "99975777-f401-411a-a0a8-df96a1c79bdb",
   "metadata": {},
   "outputs": [
    {
     "name": "stdout",
     "output_type": "stream",
     "text": [
      "[1 2 3 4 5 6 7 8 9]\n"
     ]
    }
   ],
   "source": [
    "arr1 = np.arange(1,10)\n",
    "print(arr1)"
   ]
  },
  {
   "cell_type": "code",
   "execution_count": 125,
   "id": "f7037891-1811-4886-ba88-ecd883e6b210",
   "metadata": {},
   "outputs": [
    {
     "data": {
      "text/plain": [
       "[array([1, 2, 3]), array([4, 5, 6]), array([7, 8, 9])]"
      ]
     },
     "execution_count": 125,
     "metadata": {},
     "output_type": "execute_result"
    }
   ],
   "source": [
    "np.array_split(arr1 , 3)"
   ]
  },
  {
   "cell_type": "code",
   "execution_count": 129,
   "id": "6d29a04c-7928-4404-8261-3e49cbdbc8ed",
   "metadata": {},
   "outputs": [
    {
     "data": {
      "text/plain": [
       "[array([1, 2]), array([3, 4]), array([5, 6]), array([7, 8]), array([9])]"
      ]
     },
     "execution_count": 129,
     "metadata": {},
     "output_type": "execute_result"
    }
   ],
   "source": [
    "np.array_split(arr1, 5)"
   ]
  },
  {
   "cell_type": "code",
   "execution_count": null,
   "id": "4f1c08e0-f11b-47d3-a988-787f570a66bb",
   "metadata": {},
   "outputs": [],
   "source": []
  },
  {
   "cell_type": "code",
   "execution_count": 128,
   "id": "5b6f677d-2189-4cea-a617-18c9595c8886",
   "metadata": {},
   "outputs": [],
   "source": [
    "arr2 = arr = np.array([[1, 2], [3, 4], [5, 6], [7, 8], [9, 10], [11, 12]])"
   ]
  },
  {
   "cell_type": "code",
   "execution_count": 131,
   "id": "971fd136-6581-4933-8699-65412032d44f",
   "metadata": {},
   "outputs": [
    {
     "data": {
      "text/plain": [
       "[array([[1, 2],\n",
       "        [3, 4],\n",
       "        [5, 6]]),\n",
       " array([[ 7,  8],\n",
       "        [ 9, 10],\n",
       "        [11, 12]])]"
      ]
     },
     "execution_count": 131,
     "metadata": {},
     "output_type": "execute_result"
    }
   ],
   "source": [
    "np.array_split(arr2, 2)"
   ]
  },
  {
   "cell_type": "code",
   "execution_count": 133,
   "id": "4283e653-a114-44fe-9ca1-a82fbe435290",
   "metadata": {},
   "outputs": [
    {
     "data": {
      "text/plain": [
       "[array([[ 1],\n",
       "        [ 3],\n",
       "        [ 5],\n",
       "        [ 7],\n",
       "        [ 9],\n",
       "        [11]]),\n",
       " array([[ 2],\n",
       "        [ 4],\n",
       "        [ 6],\n",
       "        [ 8],\n",
       "        [10],\n",
       "        [12]]),\n",
       " array([], shape=(6, 0), dtype=int64),\n",
       " array([], shape=(6, 0), dtype=int64),\n",
       " array([], shape=(6, 0), dtype=int64)]"
      ]
     },
     "execution_count": 133,
     "metadata": {},
     "output_type": "execute_result"
    }
   ],
   "source": [
    "np.array_split(arr2, 5, axis = 1)"
   ]
  }
 ],
 "metadata": {
  "kernelspec": {
   "display_name": "Python 3 (ipykernel)",
   "language": "python",
   "name": "python3"
  },
  "language_info": {
   "codemirror_mode": {
    "name": "ipython",
    "version": 3
   },
   "file_extension": ".py",
   "mimetype": "text/x-python",
   "name": "python",
   "nbconvert_exporter": "python",
   "pygments_lexer": "ipython3",
   "version": "3.12.4"
  }
 },
 "nbformat": 4,
 "nbformat_minor": 5
}
