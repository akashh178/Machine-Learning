{
  "nbformat": 4,
  "nbformat_minor": 0,
  "metadata": {
    "colab": {
      "provenance": []
    },
    "kernelspec": {
      "name": "python3",
      "display_name": "Python 3"
    },
    "language_info": {
      "name": "python"
    }
  },
  "cells": [
    {
      "cell_type": "markdown",
      "source": [
        "Perceptron for OR gate operation"
      ],
      "metadata": {
        "id": "KihCKT1za_R5"
      }
    },
    {
      "cell_type": "code",
      "source": [
        "import numpy, random, os"
      ],
      "metadata": {
        "id": "90dEtPYBYo9Z"
      },
      "execution_count": 1,
      "outputs": []
    },
    {
      "cell_type": "code",
      "source": [
        "lr = 1 #learning rate\n",
        "bias = 1\n",
        "weights = [random.random(),random.random(), random.random()]"
      ],
      "metadata": {
        "id": "XIQIOn9XY4IA"
      },
      "execution_count": 2,
      "outputs": []
    },
    {
      "cell_type": "code",
      "source": [
        "def Perceptron(input1, input2, output):\n",
        "  outputP = input1*weights[0] + input2*weights[1] + bias*weights[2]\n",
        "\n",
        "  if outputP > 0:\n",
        "    outputP = 1\n",
        "  else:\n",
        "    outputP = 0\n",
        "\n",
        "  error = output - outputP\n",
        "\n",
        "  #weight updation\n",
        "  weights[0] += error * input1 * lr\n",
        "  weights[1] += error * input2 *lr\n",
        "  weights[2] += error * bias * lr"
      ],
      "metadata": {
        "id": "76EQTgfhZHcQ"
      },
      "execution_count": 3,
      "outputs": []
    },
    {
      "cell_type": "code",
      "source": [
        "#learning\n",
        "for i in range(50):\n",
        "  Perceptron(1,1,1)\n",
        "  Perceptron(1,0,1)\n",
        "  Perceptron(0,0,0)\n",
        "  Perceptron(0,1,1)"
      ],
      "metadata": {
        "id": "8xvdMfGnaEvs"
      },
      "execution_count": 4,
      "outputs": []
    },
    {
      "cell_type": "code",
      "source": [
        "x = int(input())\n",
        "y = int(input())\n",
        "\n",
        "outputP = x*weights[0] + y*weights[1] +bias*weights[2]\n",
        "\n",
        "if outputP > 0:\n",
        "  outputP = 1\n",
        "else:\n",
        "  outputP = 0\n",
        "\n",
        "print(x, 'or', y, 'is : ', outputP)"
      ],
      "metadata": {
        "colab": {
          "base_uri": "https://localhost:8080/"
        },
        "id": "JU4cYt89aUCY",
        "outputId": "a5fdd5c2-5215-4dee-a1cc-737d8cd6188c"
      },
      "execution_count": 6,
      "outputs": [
        {
          "output_type": "stream",
          "name": "stdout",
          "text": [
            "0\n",
            "1\n",
            "0 or 1 is :  1\n"
          ]
        }
      ]
    }
  ]
}