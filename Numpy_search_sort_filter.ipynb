{
 "cells": [
  {
   "cell_type": "code",
   "execution_count": 1,
   "id": "44365bff-2012-4420-8017-5bc9933b2b36",
   "metadata": {},
   "outputs": [],
   "source": [
    "import numpy as np"
   ]
  },
  {
   "cell_type": "markdown",
   "id": "1473d712-6788-41a1-87e9-ab9416d6a965",
   "metadata": {},
   "source": [
    "searching an numpy array"
   ]
  },
  {
   "cell_type": "code",
   "execution_count": 2,
   "id": "0d054705-5e04-4089-8859-24d3228d0770",
   "metadata": {},
   "outputs": [
    {
     "name": "stdout",
     "output_type": "stream",
     "text": [
      "[10 23 45 76  4  3 55 53 34]\n"
     ]
    }
   ],
   "source": [
    "arr = np.array([10,23,45,76,4,3,55,53,34])\n",
    "print(arr)"
   ]
  },
  {
   "cell_type": "code",
   "execution_count": 4,
   "id": "f14349c1-2719-4b51-95f1-89f297382421",
   "metadata": {},
   "outputs": [
    {
     "data": {
      "text/plain": [
       "(array([6]),)"
      ]
     },
     "execution_count": 4,
     "metadata": {},
     "output_type": "execute_result"
    }
   ],
   "source": [
    "np.where(arr == 55)  #returns list of index of element"
   ]
  },
  {
   "cell_type": "code",
   "execution_count": 7,
   "id": "50c8209a-e334-4eee-9067-59e6eaf7997c",
   "metadata": {},
   "outputs": [
    {
     "data": {
      "text/plain": [
       "(array([3, 6, 7]),)"
      ]
     },
     "execution_count": 7,
     "metadata": {},
     "output_type": "execute_result"
    }
   ],
   "source": [
    "np.where(arr > 50)"
   ]
  },
  {
   "cell_type": "code",
   "execution_count": 9,
   "id": "ca0958b0-5630-4960-93e2-d1bdc9fcf6ac",
   "metadata": {},
   "outputs": [
    {
     "data": {
      "text/plain": [
       "(array([0, 1, 2, 3, 5, 6, 7, 8]),)"
      ]
     },
     "execution_count": 9,
     "metadata": {},
     "output_type": "execute_result"
    }
   ],
   "source": [
    "np.where(arr != 4)"
   ]
  },
  {
   "cell_type": "code",
   "execution_count": null,
   "id": "9bfa7da6-cac2-445e-b280-87fa6225e3d3",
   "metadata": {},
   "outputs": [],
   "source": []
  },
  {
   "cell_type": "code",
   "execution_count": 10,
   "id": "abb8fc6f-87a1-4a0c-8503-c56ea4df045e",
   "metadata": {},
   "outputs": [],
   "source": [
    "arr = np.array([\n",
    "    [1,2,3],[3,4,5],[55,43,78]\n",
    "])"
   ]
  },
  {
   "cell_type": "code",
   "execution_count": 17,
   "id": "43eeb841-c330-4912-a74c-a9ec7322b4e1",
   "metadata": {},
   "outputs": [
    {
     "name": "stdout",
     "output_type": "stream",
     "text": [
      "(array([0, 1]), array([2, 0]))\n"
     ]
    }
   ],
   "source": [
    "print(np.where(arr == 3))"
   ]
  },
  {
   "cell_type": "code",
   "execution_count": null,
   "id": "b45e3388-ac1e-417c-97a2-f8b1b9508e45",
   "metadata": {},
   "outputs": [],
   "source": []
  },
  {
   "cell_type": "markdown",
   "id": "a8071357-dce7-44f0-96b5-578775e6e1f6",
   "metadata": {},
   "source": [
    "numpy.searchsorted() <br>\n",
    "function in NumPy is used to find indices where elements should be inserted to maintain order in an array. This is particularly useful when dealing with sorted arrays, as it helps efficiently determine the position of new elements."
   ]
  },
  {
   "cell_type": "markdown",
   "id": "e1239e1f-9a03-421c-8e8f-5394a6d199d3",
   "metadata": {},
   "source": [
    "'left' (default): Return the first position where element could be inserted. <br>\n",
    "'right': Return the last position where element could be inserted."
   ]
  },
  {
   "cell_type": "code",
   "execution_count": 18,
   "id": "f50de3c5-d998-47b3-9cef-2c251b28c38a",
   "metadata": {},
   "outputs": [],
   "source": [
    "arr = [1, 2, 2, 3, 3, 3, 4, 5, 6, 6]"
   ]
  },
  {
   "cell_type": "code",
   "execution_count": 25,
   "id": "f412ee9a-fc18-410a-8175-a45d05f7204d",
   "metadata": {},
   "outputs": [
    {
     "name": "stdout",
     "output_type": "stream",
     "text": [
      "3\n"
     ]
    }
   ],
   "source": [
    "print(np.searchsorted(arr, 3, side = 'left'))"
   ]
  },
  {
   "cell_type": "code",
   "execution_count": 26,
   "id": "dcef7a67-74da-4cd2-9684-dafc37618ea4",
   "metadata": {},
   "outputs": [
    {
     "name": "stdout",
     "output_type": "stream",
     "text": [
      "6\n"
     ]
    }
   ],
   "source": [
    "print(np.searchsorted(arr, 3, side = 'right'))"
   ]
  },
  {
   "cell_type": "code",
   "execution_count": 37,
   "id": "f8d0116c-680e-45d7-9b4b-f855a20412c2",
   "metadata": {},
   "outputs": [],
   "source": [
    "arr = np.array([ 3,  4, 10, 23, 34, 45, 53, 55, 76])"
   ]
  },
  {
   "cell_type": "code",
   "execution_count": 39,
   "id": "92f28fd2-0774-4feb-9900-afe8b3269fcb",
   "metadata": {},
   "outputs": [
    {
     "name": "stdout",
     "output_type": "stream",
     "text": [
      "5\n"
     ]
    }
   ],
   "source": [
    "print(np.searchsorted(arr , 44, side = 'left'))"
   ]
  },
  {
   "cell_type": "code",
   "execution_count": 41,
   "id": "e77f6bc2-b0c4-4ed4-aadc-cae14bf61ec6",
   "metadata": {},
   "outputs": [
    {
     "name": "stdout",
     "output_type": "stream",
     "text": [
      "5\n"
     ]
    }
   ],
   "source": [
    "print(np.searchsorted(arr, 44, side = 'right'))"
   ]
  },
  {
   "cell_type": "code",
   "execution_count": 42,
   "id": "65e0480a-374b-4b9e-942b-c916528d5ee8",
   "metadata": {},
   "outputs": [
    {
     "name": "stdout",
     "output_type": "stream",
     "text": [
      "[ 3  4 10 23 34 45 53 55 76]\n"
     ]
    }
   ],
   "source": [
    "print(arr)"
   ]
  },
  {
   "cell_type": "code",
   "execution_count": 44,
   "id": "606d5c37-8bae-4ba9-955d-5612703c4c9b",
   "metadata": {},
   "outputs": [
    {
     "data": {
      "text/plain": [
       "array([34])"
      ]
     },
     "execution_count": 44,
     "metadata": {},
     "output_type": "execute_result"
    }
   ],
   "source": [
    "np.extract(arr == 34, arr)"
   ]
  },
  {
   "cell_type": "code",
   "execution_count": 46,
   "id": "8b66f871-5799-4ab4-ab2d-b9082ddcd30a",
   "metadata": {},
   "outputs": [
    {
     "name": "stdout",
     "output_type": "stream",
     "text": [
      "[23 34 45]\n"
     ]
    }
   ],
   "source": [
    "condition = (arr>20) & (arr<50)\n",
    "print(np.extract(condition, arr))"
   ]
  },
  {
   "cell_type": "code",
   "execution_count": null,
   "id": "149e8b9b-7cc8-42f8-aa3e-9be0c1d93938",
   "metadata": {},
   "outputs": [],
   "source": []
  },
  {
   "cell_type": "code",
   "execution_count": null,
   "id": "b4ebcb23-2b19-44c4-9802-3f7d9aa8d852",
   "metadata": {},
   "outputs": [],
   "source": []
  },
  {
   "cell_type": "markdown",
   "id": "707130fc-51f4-4607-a317-b7944e624ff9",
   "metadata": {},
   "source": [
    "Sorting an array"
   ]
  },
  {
   "cell_type": "code",
   "execution_count": 87,
   "id": "66673849-38f6-4fc4-bcc4-fdc0a1d6cbb5",
   "metadata": {},
   "outputs": [
    {
     "name": "stdout",
     "output_type": "stream",
     "text": [
      "[10 23 45 76  4  3 55 53 34]\n"
     ]
    }
   ],
   "source": [
    "arr = np.array([10,23,45,76,4,3,55,53,34])\n",
    "print(arr)"
   ]
  },
  {
   "cell_type": "code",
   "execution_count": 58,
   "id": "a14d7a16-cd56-4d88-88ed-2a170ceb57f3",
   "metadata": {},
   "outputs": [
    {
     "name": "stdout",
     "output_type": "stream",
     "text": [
      "[ 3  4 10 23 34 45 53 55 76]\n"
     ]
    }
   ],
   "source": [
    "print(np.sort(arr))"
   ]
  },
  {
   "cell_type": "code",
   "execution_count": null,
   "id": "e3bc08a9-64d4-4af7-8741-fd05cd850e98",
   "metadata": {},
   "outputs": [],
   "source": []
  },
  {
   "cell_type": "code",
   "execution_count": 66,
   "id": "9d4a8af0-1624-40b1-8bbb-c32c95ab3e1a",
   "metadata": {},
   "outputs": [
    {
     "name": "stdout",
     "output_type": "stream",
     "text": [
      "[[31  2 11]\n",
      " [ 6  5  4]]\n"
     ]
    }
   ],
   "source": [
    "arr_2d = np.array([[31, 2, 11], [6, 5, 4]])\n",
    "print(arr_2d)"
   ]
  },
  {
   "cell_type": "code",
   "execution_count": 74,
   "id": "e74c55ef-1b14-4424-93d0-161bd1e38866",
   "metadata": {},
   "outputs": [
    {
     "name": "stdout",
     "output_type": "stream",
     "text": [
      "[[ 2 11 31]\n",
      " [ 4  5  6]]\n"
     ]
    }
   ],
   "source": [
    "print(np.sort(arr_2d, axis = -1)) #You can sort a two-dimensional array along a specific axis. By default, axis=-1 sorts each row."
   ]
  },
  {
   "cell_type": "code",
   "execution_count": 75,
   "id": "88ae984c-b2c2-4f59-ba8c-df8e36d161de",
   "metadata": {},
   "outputs": [
    {
     "name": "stdout",
     "output_type": "stream",
     "text": [
      "[[ 6  2  4]\n",
      " [31  5 11]]\n"
     ]
    }
   ],
   "source": [
    "print(np.sort(arr_2d, axis = 0)) #To sort along columns (axis=0)"
   ]
  },
  {
   "cell_type": "code",
   "execution_count": null,
   "id": "13b24a8e-3b15-42b0-baf4-c2c8787048a4",
   "metadata": {},
   "outputs": [],
   "source": []
  },
  {
   "cell_type": "code",
   "execution_count": 88,
   "id": "fc182cd6-7d23-4fb9-9dd3-b79a46637cc3",
   "metadata": {},
   "outputs": [
    {
     "name": "stdout",
     "output_type": "stream",
     "text": [
      "[5 4 0 1 8 2 7 6 3]\n"
     ]
    }
   ],
   "source": [
    "indices = np.argsort(arr) #The argsort() function returns the indices that would sort an array.\n",
    "print(indices)"
   ]
  },
  {
   "cell_type": "code",
   "execution_count": 89,
   "id": "bff71481-f416-4893-aeb5-12ac3b86c980",
   "metadata": {},
   "outputs": [
    {
     "name": "stdout",
     "output_type": "stream",
     "text": [
      "[ 3  4 10 23 34 45 53 55 76]\n"
     ]
    }
   ],
   "source": [
    "sorted_arr = arr[indices] #Using these indices, you can rearrange the array\n",
    "print(sorted_arr)"
   ]
  },
  {
   "cell_type": "code",
   "execution_count": 80,
   "id": "c624dfb4-0402-4e95-b1d8-842482bdfdb8",
   "metadata": {},
   "outputs": [
    {
     "name": "stdout",
     "output_type": "stream",
     "text": [
      "[ 3  4 10 23 34 45 53 55 76]\n"
     ]
    }
   ],
   "source": []
  },
  {
   "cell_type": "code",
   "execution_count": 90,
   "id": "a816eb9f-db43-4009-9c65-19a1d9622982",
   "metadata": {},
   "outputs": [
    {
     "name": "stdout",
     "output_type": "stream",
     "text": [
      "[10 23 45 76  4  3 55 53 34]\n"
     ]
    }
   ],
   "source": [
    "print(arr)"
   ]
  },
  {
   "cell_type": "code",
   "execution_count": 93,
   "id": "7dcd2a2b-d520-4fa5-b0f8-f30bd9e822e1",
   "metadata": {},
   "outputs": [
    {
     "name": "stdout",
     "output_type": "stream",
     "text": [
      "[76 55 53 45 34 23 10  4  3]\n"
     ]
    }
   ],
   "source": [
    "print(np.sort(arr)[::-1]) #Sorting in Reverse Order"
   ]
  },
  {
   "cell_type": "code",
   "execution_count": null,
   "id": "77e859a5-7722-4015-83d5-9614514bfc0f",
   "metadata": {},
   "outputs": [],
   "source": []
  },
  {
   "cell_type": "code",
   "execution_count": null,
   "id": "8cad702a-9318-41c1-b3cd-431a0c15e35c",
   "metadata": {},
   "outputs": [],
   "source": []
  },
  {
   "cell_type": "markdown",
   "id": "736f8de7-e752-48fa-9698-023f1e58b031",
   "metadata": {},
   "source": [
    "Filtering"
   ]
  },
  {
   "cell_type": "markdown",
   "id": "93bf313c-8f7b-4382-b243-1c84f1a6720a",
   "metadata": {},
   "source": [
    "In NumPy, \"filtering\" refers to selecting elements from an array that meet certain conditions."
   ]
  },
  {
   "cell_type": "code",
   "execution_count": 94,
   "id": "4a713851-cd6c-4815-ba28-fa15a1077b3f",
   "metadata": {},
   "outputs": [],
   "source": [
    "arr = np.array([23,45,65,34,77,89,0,1,2,5,6,7])"
   ]
  },
  {
   "cell_type": "code",
   "execution_count": 95,
   "id": "d237b81c-897d-48df-ace0-af32c1c6d751",
   "metadata": {},
   "outputs": [
    {
     "name": "stdout",
     "output_type": "stream",
     "text": [
      "[65 77 89]\n"
     ]
    }
   ],
   "source": [
    "filtered_arr = arr[arr > 50]\n",
    "print(filtered_arr)"
   ]
  },
  {
   "cell_type": "code",
   "execution_count": 96,
   "id": "90a367ab-d428-461e-ade1-a0fd2d283ea5",
   "metadata": {},
   "outputs": [
    {
     "name": "stdout",
     "output_type": "stream",
     "text": [
      "[23 45 34]\n"
     ]
    }
   ],
   "source": [
    "condition = (arr>10) & (arr<60)\n",
    "print(arr[condition])"
   ]
  },
  {
   "cell_type": "code",
   "execution_count": null,
   "id": "3c9a909e-96d1-4fd2-ad3c-59793e8801a1",
   "metadata": {},
   "outputs": [],
   "source": []
  },
  {
   "cell_type": "code",
   "execution_count": 97,
   "id": "16fc5204-c726-4015-b0d7-b59000b53064",
   "metadata": {},
   "outputs": [],
   "source": [
    "arr_2d = np.array([[1, 2, 3], [4, 5, 6], [7, 8, 9]])\n"
   ]
  },
  {
   "cell_type": "code",
   "execution_count": 98,
   "id": "7a9ab43c-7722-4036-bba2-865147f869a3",
   "metadata": {},
   "outputs": [
    {
     "name": "stdout",
     "output_type": "stream",
     "text": [
      "[6 7 8 9]\n"
     ]
    }
   ],
   "source": [
    "print(arr_2d[arr_2d > 5])"
   ]
  },
  {
   "cell_type": "code",
   "execution_count": 105,
   "id": "21743810-c3c8-406d-a0d2-8e22c97f46d4",
   "metadata": {},
   "outputs": [
    {
     "name": "stdout",
     "output_type": "stream",
     "text": [
      "(array([ 0,  1,  2,  3,  4,  5, 10, 11]),)\n"
     ]
    }
   ],
   "source": [
    "print(np.nonzero(arr > 5))  #This returns the indices where the elements of the array are greater than 5."
   ]
  },
  {
   "cell_type": "code",
   "execution_count": null,
   "id": "82a01bb9-c38b-4f57-bb9b-f58f8f2cec42",
   "metadata": {},
   "outputs": [],
   "source": []
  }
 ],
 "metadata": {
  "kernelspec": {
   "display_name": "Python 3 (ipykernel)",
   "language": "python",
   "name": "python3"
  },
  "language_info": {
   "codemirror_mode": {
    "name": "ipython",
    "version": 3
   },
   "file_extension": ".py",
   "mimetype": "text/x-python",
   "name": "python",
   "nbconvert_exporter": "python",
   "pygments_lexer": "ipython3",
   "version": "3.12.4"
  }
 },
 "nbformat": 4,
 "nbformat_minor": 5
}
