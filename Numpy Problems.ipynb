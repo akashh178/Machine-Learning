{
 "cells": [
  {
   "cell_type": "code",
   "execution_count": 2,
   "id": "6d2cdacc-5582-4ed6-aa44-073448a33e7c",
   "metadata": {},
   "outputs": [],
   "source": [
    "import numpy as np"
   ]
  },
  {
   "cell_type": "code",
   "execution_count": null,
   "id": "0be768c2-31fb-4332-9a87-5c8a2b62f00a",
   "metadata": {},
   "outputs": [],
   "source": []
  },
  {
   "cell_type": "markdown",
   "id": "3c8bc1c4-a092-49e5-b1f0-17d8acf93380",
   "metadata": {},
   "source": [
    "1) Create a 1D NumPy array of 10 random integers between 1 and 100, and find\n",
    " the minimum, maximum, and mean values."
   ]
  },
  {
   "cell_type": "code",
   "execution_count": 14,
   "id": "130d9ec0-3a81-4ec0-82e0-f87d0ae71e9b",
   "metadata": {},
   "outputs": [
    {
     "name": "stdout",
     "output_type": "stream",
     "text": [
      "[30 60 91 39 59  6 66  8 60 32]\n"
     ]
    }
   ],
   "source": [
    "arr = np.random.randint(1,100,10)\n",
    "print(arr)"
   ]
  },
  {
   "cell_type": "code",
   "execution_count": 15,
   "id": "07227268-ea05-4553-8b94-735547c1bc09",
   "metadata": {},
   "outputs": [
    {
     "name": "stdout",
     "output_type": "stream",
     "text": [
      "91\n"
     ]
    }
   ],
   "source": [
    "print(np.max(arr))"
   ]
  },
  {
   "cell_type": "code",
   "execution_count": 17,
   "id": "b5c490b4-cd32-45cd-b7b5-b697f071b5e1",
   "metadata": {},
   "outputs": [
    {
     "name": "stdout",
     "output_type": "stream",
     "text": [
      "6\n"
     ]
    }
   ],
   "source": [
    "print(np.min(arr))"
   ]
  },
  {
   "cell_type": "code",
   "execution_count": 19,
   "id": "8156256c-cb35-4a51-839e-3917ad295dfc",
   "metadata": {},
   "outputs": [
    {
     "name": "stdout",
     "output_type": "stream",
     "text": [
      "45.1\n"
     ]
    }
   ],
   "source": [
    "print(np.mean(arr))"
   ]
  },
  {
   "cell_type": "code",
   "execution_count": 21,
   "id": "7956819f-bbc5-4d1b-a7ef-55c5dcebf103",
   "metadata": {},
   "outputs": [
    {
     "data": {
      "text/plain": [
       "np.float64(49.0)"
      ]
     },
     "execution_count": 21,
     "metadata": {},
     "output_type": "execute_result"
    }
   ],
   "source": [
    "np.median(arr)"
   ]
  },
  {
   "cell_type": "code",
   "execution_count": 24,
   "id": "380677f0-77eb-4b4c-b08c-e636aa419e5a",
   "metadata": {},
   "outputs": [
    {
     "data": {
      "text/plain": [
       "np.int64(2)"
      ]
     },
     "execution_count": 24,
     "metadata": {},
     "output_type": "execute_result"
    }
   ],
   "source": [
    "np.argmax(arr)"
   ]
  },
  {
   "cell_type": "code",
   "execution_count": 26,
   "id": "4a7eef02-fd08-432e-874b-f239330c7220",
   "metadata": {},
   "outputs": [
    {
     "data": {
      "text/plain": [
       "np.int64(5)"
      ]
     },
     "execution_count": 26,
     "metadata": {},
     "output_type": "execute_result"
    }
   ],
   "source": [
    "np.argmin(arr)"
   ]
  },
  {
   "cell_type": "code",
   "execution_count": null,
   "id": "b7247ab1-6542-4d59-814e-3db5bc6ab375",
   "metadata": {},
   "outputs": [],
   "source": []
  },
  {
   "cell_type": "markdown",
   "id": "d32c2940-e376-491a-919c-ce57bfe1f327",
   "metadata": {},
   "source": [
    "2) Create a 1D array of 12 elements and Reshape into a 3x4 matrix."
   ]
  },
  {
   "cell_type": "code",
   "execution_count": 37,
   "id": "54003349-dbc8-4eab-9a75-1a56de769ec2",
   "metadata": {},
   "outputs": [
    {
     "name": "stdout",
     "output_type": "stream",
     "text": [
      "[23  4  5 43 67 87 43 67 54 23 65 71]\n"
     ]
    }
   ],
   "source": [
    "arr = np.array([23,4,5,43,67,87,43,67,54,23,65,71], ndmin = 1)\n",
    "print(arr)"
   ]
  },
  {
   "cell_type": "code",
   "execution_count": 39,
   "id": "a0d852e2-721b-4c18-8379-1411e439bba5",
   "metadata": {},
   "outputs": [
    {
     "name": "stdout",
     "output_type": "stream",
     "text": [
      "[[23  4  5 43]\n",
      " [67 87 43 67]\n",
      " [54 23 65 71]]\n"
     ]
    }
   ],
   "source": [
    "arr_3x4 = np.reshape(arr , (3,4))\n",
    "print(arr_3x4)"
   ]
  },
  {
   "cell_type": "code",
   "execution_count": 43,
   "id": "d9dc8fd8-ac88-4b36-b307-baf3767d1dde",
   "metadata": {},
   "outputs": [
    {
     "data": {
      "text/plain": [
       "array([[23,  4,  5, 43],\n",
       "       [67, 87, 43, 67],\n",
       "       [54, 23, 65, 71]])"
      ]
     },
     "execution_count": 43,
     "metadata": {},
     "output_type": "execute_result"
    }
   ],
   "source": [
    "arr.reshape(3,4)"
   ]
  },
  {
   "cell_type": "code",
   "execution_count": 46,
   "id": "60299e1f-7b66-4388-b095-7bd1b49df12b",
   "metadata": {},
   "outputs": [
    {
     "data": {
      "text/plain": [
       "matrix([[23,  4,  5, 43],\n",
       "        [67, 87, 43, 67],\n",
       "        [54, 23, 65, 71]])"
      ]
     },
     "execution_count": 46,
     "metadata": {},
     "output_type": "execute_result"
    }
   ],
   "source": [
    "np.matrix(arr_3x4)"
   ]
  },
  {
   "cell_type": "code",
   "execution_count": null,
   "id": "85304b51-fde6-4284-a5ce-30ff8a193641",
   "metadata": {},
   "outputs": [],
   "source": []
  },
  {
   "cell_type": "markdown",
   "id": "374f03e9-ae2e-46dd-a596-b1b9c4de5651",
   "metadata": {},
   "source": [
    "3) Create two 1D arrays of the same size and perform element-wise addition,\n",
    " subtraction, multiplication, and division."
   ]
  },
  {
   "cell_type": "code",
   "execution_count": 51,
   "id": "81491711-fb80-4d41-809f-cda0a4ee221b",
   "metadata": {},
   "outputs": [
    {
     "name": "stdout",
     "output_type": "stream",
     "text": [
      "[55 58 89 59 73]\n"
     ]
    }
   ],
   "source": [
    "arr1 = np.random.randint(1,100,5)\n",
    "print(arr1)"
   ]
  },
  {
   "cell_type": "code",
   "execution_count": 53,
   "id": "a0283813-b7ec-4374-a7e9-0e672a2d5c22",
   "metadata": {},
   "outputs": [
    {
     "name": "stdout",
     "output_type": "stream",
     "text": [
      "[5 2 1 1 7]\n"
     ]
    }
   ],
   "source": [
    "arr2 = np.array([5,2,1,1,7])\n",
    "print(arr2)"
   ]
  },
  {
   "cell_type": "code",
   "execution_count": 57,
   "id": "ff99cd98-709c-4db9-816f-d7cc1d0b43e1",
   "metadata": {},
   "outputs": [
    {
     "name": "stdout",
     "output_type": "stream",
     "text": [
      "[60 60 90 60 80]\n",
      "[60 60 90 60 80]\n"
     ]
    }
   ],
   "source": [
    "print(np.add(arr1,arr2))\n",
    "print(arr1+arr2)"
   ]
  },
  {
   "cell_type": "code",
   "execution_count": 58,
   "id": "a17bef23-6a02-4a91-b5fd-8f0a0366232e",
   "metadata": {},
   "outputs": [
    {
     "name": "stdout",
     "output_type": "stream",
     "text": [
      "[50 56 88 58 66]\n"
     ]
    }
   ],
   "source": [
    "print(np.subtract(arr1,arr2))"
   ]
  },
  {
   "cell_type": "code",
   "execution_count": 59,
   "id": "9ee931f9-f561-4d62-8dc3-9cbc6711dcdf",
   "metadata": {},
   "outputs": [
    {
     "name": "stdout",
     "output_type": "stream",
     "text": [
      "[275 116  89  59 511]\n"
     ]
    }
   ],
   "source": [
    "print(np.multiply(arr1,arr2))"
   ]
  },
  {
   "cell_type": "code",
   "execution_count": 68,
   "id": "10283e3f-deb5-4aad-a73b-f4c45582da16",
   "metadata": {},
   "outputs": [
    {
     "name": "stdout",
     "output_type": "stream",
     "text": [
      "[11.   29.   89.   59.   10.43]\n"
     ]
    }
   ],
   "source": [
    "print(np.divide(arr1,arr2,dtype = 'float16'))"
   ]
  },
  {
   "cell_type": "code",
   "execution_count": null,
   "id": "33f26e25-a6ea-4a04-8492-67e4bf7d0d6f",
   "metadata": {},
   "outputs": [],
   "source": []
  },
  {
   "cell_type": "markdown",
   "id": "cd17574a-3038-43c6-b7c8-aae585d85749",
   "metadata": {},
   "source": [
    "4)  Create a 5x5 matrix of random integers and extract a submatrix (2x2) from it."
   ]
  },
  {
   "cell_type": "code",
   "execution_count": 69,
   "id": "7e937ce3-9b90-4f3c-bdbe-12fc40f3b02a",
   "metadata": {},
   "outputs": [
    {
     "name": "stdout",
     "output_type": "stream",
     "text": [
      "[[58 49 57 39  3]\n",
      " [86 18 27 19 52]\n",
      " [74 89 51 65 56]\n",
      " [95  4 97 32 47]\n",
      " [18 55 60 84 57]]\n"
     ]
    }
   ],
   "source": [
    "mat_5x5 = np.random.randint(1,100,25).reshape(5,5)\n",
    "print(mat_5x5)"
   ]
  },
  {
   "cell_type": "code",
   "execution_count": 75,
   "id": "ee484112-08fe-406b-8538-0ed32df3ed31",
   "metadata": {},
   "outputs": [
    {
     "name": "stdout",
     "output_type": "stream",
     "text": [
      "[[27 19]\n",
      " [51 65]]\n"
     ]
    }
   ],
   "source": [
    "mat_2x2 = mat_5x5[1:3,2:4]\n",
    "print(mat_2x2)"
   ]
  },
  {
   "cell_type": "code",
   "execution_count": null,
   "id": "71cd9e59-7790-428b-b0e1-152dd40b52a7",
   "metadata": {},
   "outputs": [],
   "source": []
  },
  {
   "cell_type": "markdown",
   "id": "3b84cf8e-05bd-411f-8c4a-e89561bbf6dd",
   "metadata": {},
   "source": [
    " 5. Create two matrices (3x2 and 2x3) and perform matrix multiplication."
   ]
  },
  {
   "cell_type": "code",
   "execution_count": 90,
   "id": "8636a50d-87f0-4b78-bcc5-e98829e17a8d",
   "metadata": {},
   "outputs": [
    {
     "name": "stdout",
     "output_type": "stream",
     "text": [
      "[[1 2]\n",
      " [5 6]\n",
      " [7 2]]\n",
      "\n",
      " (3, 2)\n"
     ]
    }
   ],
   "source": [
    "mat_3x2 = np.array([[1,2],\n",
    "                    [5,6],\n",
    "                    [7,2]])\n",
    "print(mat_3x2)\n",
    "print('\\n',mat_3x2.shape)"
   ]
  },
  {
   "cell_type": "code",
   "execution_count": 93,
   "id": "230120db-f5e6-4902-a9a9-1b0e0261bbeb",
   "metadata": {},
   "outputs": [
    {
     "name": "stdout",
     "output_type": "stream",
     "text": [
      "[[1 2 3]\n",
      " [7 6 5]]\n",
      "\n",
      " (2, 3)\n"
     ]
    }
   ],
   "source": [
    "mat_2x3 = np.array([\n",
    "    [1,2,3],\n",
    "    [7,6,5]\n",
    "])\n",
    "print(mat_2x3)\n",
    "print('\\n',mat_2x3.shape)"
   ]
  },
  {
   "cell_type": "code",
   "execution_count": 95,
   "id": "e300fa83-3fdc-4798-a414-f49c9dc3371b",
   "metadata": {},
   "outputs": [
    {
     "data": {
      "text/plain": [
       "array([[15, 14, 13],\n",
       "       [47, 46, 45],\n",
       "       [21, 26, 31]])"
      ]
     },
     "execution_count": 95,
     "metadata": {},
     "output_type": "execute_result"
    }
   ],
   "source": [
    "np.matmul(mat_3x2,mat_2x3)"
   ]
  },
  {
   "cell_type": "code",
   "execution_count": null,
   "id": "84ce24bb-6ba0-4a5f-acc8-8e62a051a79e",
   "metadata": {},
   "outputs": [],
   "source": []
  },
  {
   "cell_type": "markdown",
   "id": "62572763-ed35-4904-8433-2ef47c43998a",
   "metadata": {},
   "source": [
    " 6. Create a 3x3 matrix and a 1D array of size 3. Add the array to each row of the\n",
    " matrix using broadcasting."
   ]
  },
  {
   "cell_type": "code",
   "execution_count": 11,
   "id": "27e6dd7d-5e7e-4aa8-bf6d-d25233e53379",
   "metadata": {},
   "outputs": [
    {
     "name": "stdout",
     "output_type": "stream",
     "text": [
      "[[1 2 3]\n",
      " [4 5 6]\n",
      " [7 8 9]]\n"
     ]
    }
   ],
   "source": [
    "arr1 = np.arange(1,10).reshape(3,3)\n",
    "print(arr1)"
   ]
  },
  {
   "cell_type": "code",
   "execution_count": 13,
   "id": "afd134b1-fa03-4d90-aa6a-ec612c3cc520",
   "metadata": {},
   "outputs": [],
   "source": [
    "arr2 = [4,5,6]"
   ]
  },
  {
   "cell_type": "code",
   "execution_count": 18,
   "id": "6aa6917f-5666-436a-a6ab-f8ba1891f97b",
   "metadata": {},
   "outputs": [],
   "source": [
    "result = arr1+arr2"
   ]
  },
  {
   "cell_type": "code",
   "execution_count": 20,
   "id": "4ea8e54d-4338-4f84-8324-128f11dd8d8c",
   "metadata": {},
   "outputs": [
    {
     "name": "stdout",
     "output_type": "stream",
     "text": [
      "[[ 5  7  9]\n",
      " [ 8 10 12]\n",
      " [11 13 15]]\n"
     ]
    }
   ],
   "source": [
    "print(result)"
   ]
  },
  {
   "cell_type": "code",
   "execution_count": null,
   "id": "0053ebac-489c-4570-b314-103c9f2ca27c",
   "metadata": {},
   "outputs": [],
   "source": []
  },
  {
   "cell_type": "markdown",
   "id": "dc442881-aafc-4c05-9029-8a9333ba71dd",
   "metadata": {},
   "source": [
    "7. Create a 1D array of random numbers and use boolean masking to filter out\n",
    " numbers greater than 50."
   ]
  },
  {
   "cell_type": "code",
   "execution_count": 22,
   "id": "55b9a911-2ebd-4cde-893b-b95975f2f79d",
   "metadata": {},
   "outputs": [
    {
     "name": "stdout",
     "output_type": "stream",
     "text": [
      "[ 3 52 71 26  2 81 36 75 22 64 35 33 84 68  3]\n"
     ]
    }
   ],
   "source": [
    "arr = np.random.randint(1,100,size = 15)\n",
    "print(arr)"
   ]
  },
  {
   "cell_type": "code",
   "execution_count": 23,
   "id": "7dc92355-7b2f-4a87-906c-bbc1ae3e94cc",
   "metadata": {},
   "outputs": [],
   "source": [
    "filtered_arr = arr[arr > 50]"
   ]
  },
  {
   "cell_type": "code",
   "execution_count": 24,
   "id": "99fe5b07-2d36-4931-870f-aa49fec35393",
   "metadata": {},
   "outputs": [
    {
     "name": "stdout",
     "output_type": "stream",
     "text": [
      "[52 71 81 75 64 84 68]\n"
     ]
    }
   ],
   "source": [
    "print(filtered_arr)"
   ]
  },
  {
   "cell_type": "code",
   "execution_count": null,
   "id": "e6425578-df0f-4b94-b777-7a2e1e66b833",
   "metadata": {},
   "outputs": [],
   "source": []
  },
  {
   "cell_type": "markdown",
   "id": "685f2443-b095-4e31-a445-935579f07810",
   "metadata": {},
   "source": [
    "8. Create a 4x4 matrix and print the elements at positions (0,0), (1,1), (2,2), and\n",
    " (3,3) using fancy indexing."
   ]
  },
  {
   "cell_type": "code",
   "execution_count": 29,
   "id": "e3fb5660-b6ae-45a0-b397-9c83ce794628",
   "metadata": {},
   "outputs": [
    {
     "name": "stdout",
     "output_type": "stream",
     "text": [
      "[[ 3  4  5 60]\n",
      " [90 50 96 27]\n",
      " [12 44 64 89]\n",
      " [ 5  4  6  7]]\n",
      "\t (4, 4)\n"
     ]
    }
   ],
   "source": [
    "arr = np.array([[3,4,5,60],[90,50,96,27],[12,44,64,89],[5,4,6,7]])\n",
    "print(arr)\n",
    "print('\\t',arr.shape)"
   ]
  },
  {
   "cell_type": "code",
   "execution_count": 36,
   "id": "0460b868-0ab3-4c8e-b74d-8b1117f4aa4a",
   "metadata": {},
   "outputs": [
    {
     "data": {
      "text/plain": [
       "array([ 3, 50, 64,  7])"
      ]
     },
     "execution_count": 36,
     "metadata": {},
     "output_type": "execute_result"
    }
   ],
   "source": [
    "arr[[0,1,2,3],[0,1,2,3]] #fancy indexing"
   ]
  },
  {
   "cell_type": "code",
   "execution_count": null,
   "id": "31c57d87-0366-4810-8577-33dc0d3b3a76",
   "metadata": {},
   "outputs": [],
   "source": []
  },
  {
   "cell_type": "markdown",
   "id": "8ced3f06-e379-40c0-83cd-ae6f3f084546",
   "metadata": {},
   "source": [
    " 9. Create a 3D array and flatten it into a 1D array"
   ]
  },
  {
   "cell_type": "code",
   "execution_count": 50,
   "id": "e0d26151-3cfd-4a15-ba61-82a64d40fee6",
   "metadata": {},
   "outputs": [
    {
     "name": "stdout",
     "output_type": "stream",
     "text": [
      "[[[857 679 450]\n",
      "  [537 160 397]\n",
      "  [422 784 728]]\n",
      "\n",
      " [[399 489 155]\n",
      "  [376 738 499]\n",
      "  [747 471 810]]\n",
      "\n",
      " [[499 113 720]\n",
      "  [263 544 813]\n",
      "  [314 853 278]]]\n",
      "3\n"
     ]
    }
   ],
   "source": [
    "arr3d = np.random.randint(100,900, size = 27).reshape(3,3,3)\n",
    "print(arr3d)\n",
    "print(arr3d.ndim)"
   ]
  },
  {
   "cell_type": "code",
   "execution_count": 51,
   "id": "809feac7-2d08-4cf7-9115-2703482f168d",
   "metadata": {},
   "outputs": [
    {
     "name": "stdout",
     "output_type": "stream",
     "text": [
      "[857 679 450 537 160 397 422 784 728 399 489 155 376 738 499 747 471 810\n",
      " 499 113 720 263 544 813 314 853 278]\n",
      "1\n"
     ]
    }
   ],
   "source": [
    "flatten_arr = np.ravel(arr3d)\n",
    "print(flatten_arr)\n",
    "print(flatten_arr.ndim)"
   ]
  },
  {
   "cell_type": "code",
   "execution_count": 52,
   "id": "6b47ae17-1b66-4bd0-bb87-657069b71e16",
   "metadata": {},
   "outputs": [
    {
     "name": "stdout",
     "output_type": "stream",
     "text": [
      "[857 679 450 537 160 397 422 784 728 399 489 155 376 738 499 747 471 810\n",
      " 499 113 720 263 544 813 314 853 278]\n",
      "1\n"
     ]
    }
   ],
   "source": [
    "flatten_arr1 = arr3d.reshape(27)\n",
    "print(flatten_arr1)\n",
    "print(flatten_arr1.ndim)"
   ]
  },
  {
   "cell_type": "code",
   "execution_count": 57,
   "id": "a94f418b-e0e8-4487-82bc-495f0e9d2062",
   "metadata": {},
   "outputs": [
    {
     "name": "stdout",
     "output_type": "stream",
     "text": [
      "[857 679 450 537 160 397 422 784 728 399 489 155 376 738 499 747 471 810\n",
      " 499 113 720 263 544 813 314 853 278]\n",
      "1\n"
     ]
    }
   ],
   "source": [
    "flatten_arr2 = arr3d.reshape(-1)\n",
    "print(flatten_arr2)\n",
    "print(flatten_arr2.ndim)"
   ]
  },
  {
   "cell_type": "code",
   "execution_count": 63,
   "id": "f7736d63-b63f-4d78-b145-a072a56606a4",
   "metadata": {},
   "outputs": [
    {
     "name": "stdout",
     "output_type": "stream",
     "text": [
      "[857 679 450 537 160 397 422 784 728 399 489 155 376 738 499 747 471 810\n",
      " 499 113 720 263 544 813 314 853 278]\n",
      "1\n"
     ]
    }
   ],
   "source": [
    "flatten_arr3 = arr3d.flatten() #mehod\n",
    "print(flatten_arr3)\n",
    "print(flatten_arr3.ndim)"
   ]
  },
  {
   "cell_type": "code",
   "execution_count": null,
   "id": "8c2d4853-b2a5-46c3-af09-244e4dad6bef",
   "metadata": {},
   "outputs": [],
   "source": []
  },
  {
   "cell_type": "markdown",
   "id": "28329801-8c95-4fe8-8fa1-28655607bafb",
   "metadata": {},
   "source": [
    "10. Create a 1D array of 10 random integers and sort it in both ascending and\n",
    " descending order"
   ]
  },
  {
   "cell_type": "code",
   "execution_count": 66,
   "id": "b1b80dea-5303-471d-afa9-bf3bf3f32379",
   "metadata": {},
   "outputs": [
    {
     "name": "stdout",
     "output_type": "stream",
     "text": [
      "[34 92 28 49 32 58 98 64 50 95]\n"
     ]
    }
   ],
   "source": [
    "arr = np.random.randint(1,100,size = 10)\n",
    "print(arr) # ascending order "
   ]
  },
  {
   "cell_type": "code",
   "execution_count": 73,
   "id": "8ddf9480-e3ab-4ffd-9ce5-60167fae2c25",
   "metadata": {},
   "outputs": [
    {
     "name": "stdout",
     "output_type": "stream",
     "text": [
      "[95 50 64 98 58 32 49 28 92 34]\n"
     ]
    }
   ],
   "source": [
    "arr_desc = arr[::-1] #descending order\n",
    "print(arr_desc)"
   ]
  },
  {
   "cell_type": "code",
   "execution_count": null,
   "id": "eb04a796-6812-4213-9aaf-19ba235d4660",
   "metadata": {},
   "outputs": [],
   "source": []
  }
 ],
 "metadata": {
  "kernelspec": {
   "display_name": "Python 3 (ipykernel)",
   "language": "python",
   "name": "python3"
  },
  "language_info": {
   "codemirror_mode": {
    "name": "ipython",
    "version": 3
   },
   "file_extension": ".py",
   "mimetype": "text/x-python",
   "name": "python",
   "nbconvert_exporter": "python",
   "pygments_lexer": "ipython3",
   "version": "3.12.4"
  }
 },
 "nbformat": 4,
 "nbformat_minor": 5
}
